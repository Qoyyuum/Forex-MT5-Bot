{
 "cells": [
  {
   "cell_type": "code",
   "execution_count": null,
   "source": [
    "# Find out what model works best with the dataset from XM"
   ],
   "outputs": [],
   "metadata": {}
  },
  {
   "cell_type": "code",
   "execution_count": null,
   "source": [
    "import pandas as pd\r\n",
    "\r\n",
    "from datetime import datetime\r\n",
    "import MetaTrader5 as mt5\r\n",
    "\r\n",
    "if not mt5.initialize():\r\n",
    "\tprint(f\"MT5 Init failed, error code {mt5.last_error()}\")\r\n",
    "\tquit()\r\n",
    "\r\n",
    "pair = \"GBPUSD\"\r\n",
    "rates = mt5.copy_rates_from_pos(pair, mt5.TIMEFRAME_D1, 0, 100)\r\n",
    "print(rates)"
   ],
   "outputs": [],
   "metadata": {}
  },
  {
   "cell_type": "markdown",
   "source": [
    "# Convert the `rates` into a Dataframe"
   ],
   "metadata": {}
  },
  {
   "cell_type": "code",
   "execution_count": null,
   "source": [
    "data = pd.DataFrame(rates)\r\n",
    "data['time'] = pd.to_datetime(data['time'], unit='s')\r\n",
    "print(type(data))\r\n",
    "print(data.head())\r\n",
    "data"
   ],
   "outputs": [],
   "metadata": {}
  },
  {
   "cell_type": "code",
   "execution_count": null,
   "source": [
    "# Understand the dataset\r\n",
    "print(data.describe)"
   ],
   "outputs": [],
   "metadata": {}
  },
  {
   "cell_type": "markdown",
   "source": [
    "We'll be using scikit learn's to train_test_split the dataset but we have to define a few things"
   ],
   "metadata": {}
  },
  {
   "cell_type": "markdown",
   "source": [
    "Need to define the X set and the y set from the data"
   ],
   "metadata": {}
  },
  {
   "cell_type": "code",
   "execution_count": null,
   "source": [
    "X = data.drop(columns='close')\r\n",
    "print(X.head())\r\n",
    "y = data['close']\r\n",
    "print(y.head())"
   ],
   "outputs": [],
   "metadata": {}
  },
  {
   "cell_type": "code",
   "execution_count": null,
   "source": [
    "# Split the data set into training and test set\r\n",
    "from sklearn.model_selection import train_test_split\r\n",
    "X_train, X_test, y_train, y_test = train_test_split(X, y, test_size=0.3, random_state=4)\r\n",
    "print(f\"X_train: {X_train}\")\r\n",
    "print(f\"X_test: {X_test}\")\r\n",
    "print(f\"y_train: {y_train}\")\r\n",
    "print(f\"y_test: {y_test}\")"
   ],
   "outputs": [],
   "metadata": {}
  },
  {
   "cell_type": "markdown",
   "source": [
    "Using LazyRegressor to find out the models"
   ],
   "metadata": {}
  },
  {
   "cell_type": "code",
   "execution_count": null,
   "source": [
    "from lazypredict.Supervised import LazyRegressor\r\n",
    "reg = LazyRegressor(verbose=0, ignore_warnings=False, custom_metric=None)\r\n",
    "models, predictions = reg.fit(X_train, X_test, y_train, y_test)\r\n",
    "\r\n",
    "print(models)"
   ],
   "outputs": [],
   "metadata": {}
  },
  {
   "cell_type": "markdown",
   "source": [
    "# Pick a Model to study\r\n",
    "\r\n",
    "So according to the `LazyRegressor`, there are a bunch of models are unknown to me at this time of writing this. The only model I am familiar with is the LinearRegression. I may start with that and if it doesn't perform as much, I will continue up the models. RidgeCV being the top."
   ],
   "metadata": {}
  },
  {
   "cell_type": "code",
   "execution_count": null,
   "source": [
    "import torch\r\n",
    "import math\r\n",
    "\r\n",
    "class LinearRegression:\r\n",
    "    def fit(self, X, y, method, learning_rate=0.01, iterations=500, batch_size=32):\r\n",
    "        X, y = torch.from_numpy(X), torch.from_numpy(y)\r\n",
    "        X = torch.cat([(X), torch.ones_like(y)], dim=1)\r\n",
    "        rows, cols = X.size()\r\n",
    "        if method == 'solve':\r\n",
    "            if rows >= cols == torch.matrix_rank(X):\r\n",
    "                self.weights = torch.matmul(\r\n",
    "                    torch.matmul(\r\n",
    "                        torch.inverse(\r\n",
    "                            torch.matmul(\r\n",
    "                                torch.transpose(X, 0, 1),\r\n",
    "                                X)),\r\n",
    "                        torch.transpose(X, 0, 1)),\r\n",
    "                    y)\r\n",
    "            else:\r\n",
    "                print('X has not full column rank. method=\\'solve\\' cannot be used.')\r\n",
    "        elif method == 'sgd':\r\n",
    "            self.weights = torch.normal(mean=0, std=1/cols, size=(cols, 1), dtype=torch.float64)\r\n",
    "            for i in range(iterations):\r\n",
    "                Xy = torch.cat([X, y], dim=1)\r\n",
    "                Xy = Xy[torch.randperm(Xy.size()[0])]\r\n",
    "                X, y = torch.split(Xy, [Xy.size()[1]-1, 1], dim=1)\r\n",
    "                for j in range(int(math.ceil(rows/batch_size))):\r\n",
    "                    start, end = batch_size*j, min(batch_size*(j+1), rows)\r\n",
    "                    Xb = torch.index_select(X, 0, torch.arange(start, end))\r\n",
    "                    yb = torch.index_select(y, 0, torch.arange(start, end))\r\n",
    "                    \r\n",
    "                    self.weights.requires_grad_(True)\r\n",
    "                    diff = torch.matmul(Xb, self.weights) - yb\r\n",
    "                    loss = torch.matmul(torch.transpose(diff, 0, 1), diff)\r\n",
    "                    loss.backward()\r\n",
    "                    \r\n",
    "                    self.weights = (self.weights - learning_rate*self.weights.grad).detach()\r\n",
    "        else:\r\n",
    "            print(f'Unknown method: \\'{method}\\'')\r\n",
    "        \r\n",
    "        return self\r\n",
    "    \r\n",
    "    def predict(self, X):\r\n",
    "        X = torch.from_numpy(X)\r\n",
    "        if not hasattr(self, 'weights'):\r\n",
    "            print('Cannot predict. You should call the .fit() method first.')\r\n",
    "            return\r\n",
    "        \r\n",
    "        X = torch.cat([X, torch.ones((X.size()[0], 1))], dim=1)\r\n",
    "        \r\n",
    "        if X.size()[1] != self.weights.size()[0]:\r\n",
    "            print(f'Shapes do not match. {X.size()[1]} != {self.weights.size()[0]}')\r\n",
    "            return\r\n",
    "        \r\n",
    "        return torch.matmul(X, self.weights)\r\n",
    "    \r\n",
    "    def rmse(self, X, y):\r\n",
    "        y = torch.from_numpy(y)\r\n",
    "        y_hat = self.predict(X)\r\n",
    "        \r\n",
    "        if y_hat is None:\r\n",
    "            return\r\n",
    "        \r\n",
    "        return torch.sqrt(torch.mean(torch.square(y_hat - y)))"
   ],
   "outputs": [],
   "metadata": {}
  },
  {
   "cell_type": "markdown",
   "source": [
    "With the Linear Regression model defined with fitting and predicting, let's map and plot the current dataset"
   ],
   "metadata": {}
  },
  {
   "cell_type": "code",
   "execution_count": null,
   "source": [
    "import mplfinance as mpf\r\n",
    "\r\n",
    "data = data.set_index('time')\r\n",
    "mpf.plot(data, type='line', title=pair)"
   ],
   "outputs": [],
   "metadata": {}
  },
  {
   "cell_type": "code",
   "execution_count": null,
   "source": [
    "from sklearn.linear_model import LinearRegression\r\n",
    "\r\n",
    "df_data = pd.DataFrame(rates)\r\n",
    "df_x = df_data.drop(columns='close')\r\n",
    "df_y = df_data['close']\r\n",
    "x_train, x_test, y_train, y_test = train_test_split(df_x, df_y, test_size=0.2, random_state=0)\r\n",
    "model = LinearRegression()\r\n",
    "model.fit(x_train, y_train)\r\n",
    "y_pre = model.predict(x_test)\r\n",
    "\r\n",
    "import matplotlib.pyplot as plt\r\n",
    "\r\n",
    "\r\n",
    "plt.figure(num = 3, figsize=(10, 5))\r\n",
    "y_test_array = np.array(y_test)\r\n",
    "plt.plot(y_test_array)\r\n",
    "plt.plot(y_pre)\r\n",
    "plt.show()"
   ],
   "outputs": [],
   "metadata": {}
  },
  {
   "cell_type": "code",
   "execution_count": null,
   "source": [
    "model.score(df_x, df_y)"
   ],
   "outputs": [],
   "metadata": {}
  },
  {
   "cell_type": "code",
   "execution_count": null,
   "source": [
    "model.coef_"
   ],
   "outputs": [],
   "metadata": {}
  },
  {
   "cell_type": "code",
   "execution_count": null,
   "source": [
    "model.intercept_"
   ],
   "outputs": [],
   "metadata": {}
  },
  {
   "cell_type": "code",
   "execution_count": null,
   "source": [
    "y_predict"
   ],
   "outputs": [],
   "metadata": {}
  }
 ],
 "metadata": {
  "orig_nbformat": 4,
  "language_info": {
   "name": "python",
   "version": "3.9.4",
   "mimetype": "text/x-python",
   "codemirror_mode": {
    "name": "ipython",
    "version": 3
   },
   "pygments_lexer": "ipython3",
   "nbconvert_exporter": "python",
   "file_extension": ".py"
  },
  "kernelspec": {
   "name": "python3",
   "display_name": "Python 3.9.4 64-bit"
  },
  "interpreter": {
   "hash": "63fd5069d213b44bf678585dea6b12cceca9941eaf7f819626cde1f2670de90d"
  }
 },
 "nbformat": 4,
 "nbformat_minor": 2
}